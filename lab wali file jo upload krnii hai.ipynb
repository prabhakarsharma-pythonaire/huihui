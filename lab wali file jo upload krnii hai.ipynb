{
  "metadata": {
    "kernelspec": {
      "name": "python",
      "display_name": "Pyolite",
      "language": "python"
    },
    "language_info": {
      "codemirror_mode": {
        "name": "python",
        "version": 3
      },
      "file_extension": ".py",
      "mimetype": "text/x-python",
      "name": "python",
      "nbconvert_exporter": "python",
      "pygments_lexer": "ipython3",
      "version": "3.8"
    }
  },
  "nbformat_minor": 4,
  "nbformat": 4,
  "cells": [
    {
      "cell_type": "markdown",
      "source": "<center>\n    <img src=\"https://s3-api.us-geo.objectstorage.softlayer.net/cf-courses-data/CognitiveClass/Logos/organization_logo/organization_logo.png\" width=\"300\" alt=\"cognitiveclass.ai logo\"  />\n</center>\n",
      "metadata": {}
    },
    {
      "cell_type": "markdown",
      "source": "#### Add your code below following the instructions given in the course\n",
      "metadata": {}
    },
    {
      "cell_type": "code",
      "source": "My Jupyter Notebook on IBM Watson Studio\n",
      "metadata": {},
      "execution_count": null,
      "outputs": []
    },
    {
      "cell_type": "code",
      "source": "|𝐏𝐫𝐚𝐛𝐡𝐚𝐤𝐚𝐫|\n-----------\nData scientist",
      "metadata": {},
      "execution_count": null,
      "outputs": []
    },
    {
      "cell_type": "code",
      "source": "𝘐 𝘸𝘢𝘯𝘵 𝘵𝘰 𝘣𝘦 𝘢 𝘥𝘢𝘵𝘢 𝘴𝘤𝘪𝘦𝘯𝘵𝘪𝘴𝘵 𝘣𝘦𝘤𝘢𝘶𝘴𝘦 𝘪 𝘭𝘰𝘷𝘦 𝘱𝘺𝘵𝘩𝘰𝘯 𝘢𝘯𝘥 𝘮𝘢𝘵𝘩𝘴",
      "metadata": {},
      "execution_count": null,
      "outputs": []
    },
    {
      "cell_type": "code",
      "source": "my code will add multiply numbers",
      "metadata": {},
      "execution_count": null,
      "outputs": []
    },
    {
      "cell_type": "code",
      "source": "1*1\n",
      "metadata": {},
      "execution_count": null,
      "outputs": []
    },
    {
      "cell_type": "markdown",
      "source": "1.This is first line of numbered list \n2.This is the second line of the numbered list \n3.Third line of numbered list \n    \n    \"knowledge is power\"\n    \n",
      "metadata": {}
    }
  ]
}